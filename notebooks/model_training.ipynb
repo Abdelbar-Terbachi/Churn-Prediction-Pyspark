{
 "cells": [
  {
   "cell_type": "code",
   "execution_count": 243,
   "outputs": [],
   "source": [
    "import pyspark\n",
    "from pyspark.ml.feature import StringIndexer, OneHotEncoder, VectorAssembler, StandardScaler, PCA\n",
    "from pyspark.sql import SparkSession\n",
    "from pyspark.sql.functions import col, when, mean, avg, max\n",
    "from pyspark.ml.evaluation import RegressionEvaluator\n",
    "from pyspark.sql import DataFrame\n",
    "from pyspark.ml.feature import Imputer\n",
    "import pandas as pd\n",
    "from pyspark.sql.functions import col"
   ],
   "metadata": {
    "collapsed": false,
    "ExecuteTime": {
     "end_time": "2023-11-18T11:52:00.182861Z",
     "start_time": "2023-11-18T11:52:00.175479Z"
    }
   },
   "id": "8f4be389101d2e0d"
  },
  {
   "cell_type": "code",
   "execution_count": 244,
   "outputs": [],
   "source": [
    "spark = SparkSession.builder.appName('customer churn').getOrCreate()\n"
   ],
   "metadata": {
    "collapsed": false,
    "ExecuteTime": {
     "end_time": "2023-11-18T11:52:00.300221Z",
     "start_time": "2023-11-18T11:52:00.286750Z"
    }
   },
   "id": "14a88adfcfc597d3"
  },
  {
   "cell_type": "code",
   "execution_count": 245,
   "outputs": [],
   "source": [
    "class SmartEncoder():\n",
    "    use_onehot = False\n",
    "    use_std_scaler = False\n",
    "    use_pca = False\n",
    "\n",
    "    def __init__(self, df1, pred, use_oversampler, use_onehot, use_std_scaler, use_pca):\n",
    "        print(\"Constructor of Class samrtencoder \")\n",
    "\n",
    "        self.df1 = df1\n",
    "        self.pred = pred\n",
    "        self.use_oversampler = use_oversampler\n",
    "        self.use_onehot = use_onehot\n",
    "        self.use_std_scaler = use_std_scaler\n",
    "        self.pca = use_pca\n",
    "\n",
    "    @staticmethod\n",
    "    def checkNulls(df):\n",
    "        null_cols = {col: df.filter(df[col].isNull()).count() for col in df.columns}\n",
    "        return null_cols\n",
    "\n",
    "    @staticmethod\n",
    "    def checkDuplicates(df):\n",
    "        if df.count() > df.dropDuplicates().count():\n",
    "            raise ValueError('Data has duplicates')\n",
    "\n",
    "    def handlingMissingVal(self):\n",
    "\n",
    "        #drop cols when the whole row is null\n",
    "        df = self.df1.na.drop(how=\"all\")\n",
    "        #drop duplicates\n",
    "        df = df.dropDuplicates()\n",
    "        #Treating missing values\n",
    "        cols_to_drop = [x for x in df.columns if df.filter(df[x].isNull()).count() > 0]\n",
    "        if len(cols_to_drop) != 0:\n",
    "            dff = df.select(cols_to_drop)\n",
    "            continuousCols = [item[0] for item in dff.dtypes if item[1] != 'string']\n",
    "            imputer = Imputer(inputCols=continuousCols, outputCols=continuousCols).setStrategy(\"mean\")\n",
    "            model = imputer.fit(df)\n",
    "            imputed_data = model.transform(df)\n",
    "\n",
    "        else:\n",
    "            imputed_data = df\n",
    "\n",
    "        return imputed_data\n",
    "\n",
    "    def indexString(self):\n",
    "\n",
    "        imputed = self.handlingMissingVal()\n",
    "        if self.use_oversampler == True:\n",
    "            imputed = self.oversmaple(imputed)\n",
    "\n",
    "        #index the string to numeric\n",
    "        self.stringCols = [item[0] for item in imputed.dtypes if item[1] == 'string']\n",
    "        if len(self.stringCols) != 0:\n",
    "            outputs = [y + \"_encoded\" for y in self.stringCols]\n",
    "            stringIndexer = StringIndexer(inputCols=self.stringCols, outputCols=outputs)\n",
    "            model = stringIndexer.fit(imputed)\n",
    "            result = model.transform(imputed)\n",
    "    \n",
    "            encoded = result.drop(*self.stringCols)\n",
    "\n",
    "            if self.use_onehot == True:\n",
    "                #converting categorical attributes into a binary vector\n",
    "                encoder = OneHotEncoder(dropLast=False, inputCols=outputs,\n",
    "                                        outputCols=[x + \"_vec\" for x in self.stringCols])\n",
    "                encoded2 = encoder.fit(encoded).transform(encoded)\n",
    "\n",
    "                encoded = encoded2.drop(*outputs)\n",
    "            encoded = encoded.withColumnRenamed(self.pred + '_encoded', self.pred)\n",
    "            encoded = encoded.withColumnRenamed(self.pred + '_vec', self.pred)\n",
    "        else:\n",
    "            encoded = imputed\n",
    "\n",
    "        return encoded\n",
    "\n",
    "    def oversmaple(self, df):\n",
    "        # example of random oversampling to balance the class distribution\n",
    "        from collections import Counter\n",
    "        from imblearn.over_sampling import RandomOverSampler\n",
    "        dfp = df.toPandas()\n",
    "        # define oversampling strategy\n",
    "        oversample = RandomOverSampler()\n",
    "        # fit and apply the transform\n",
    "        data, y = oversample.fit_resample(dfp.loc[:, dfp.columns != self.pred], dfp[self.pred])\n",
    "        data[self.pred] = y\n",
    "        df_sample = spark.createDataFrame(data)\n",
    "        # summarize class distribution\n",
    "        print(Counter(y))\n",
    "\n",
    "        return df_sample\n",
    "\n",
    "    def dataAssembler(self, drops):\n",
    "        # VectorAssembler - tranform features into a feature vector column\n",
    "        encoded = self.indexString()\n",
    "        encoded = encoded.drop(*drops)\n",
    "        assembler = VectorAssembler(inputCols=encoded.drop(self.pred).columns, outputCol='features')\n",
    "        df_Assembled = assembler.transform(encoded)\n",
    "\n",
    "        if self.use_std_scaler == True:\n",
    "            # standardize the dataframe to ensure that all the variables are around the same scale\n",
    "            scale = StandardScaler(inputCol='features', outputCol='standardized')\n",
    "            df_scale = scale.fit(df_Assembled)\n",
    "            df_Assembled = df_scale.transform(df_Assembled)\n",
    "\n",
    "        if self.pca == True:\n",
    "            pca = PCA(k=3, inputCol=df_Assembled.columns[-1])\n",
    "            pca.setOutputCol(\"pca_features\")\n",
    "\n",
    "            model = pca.fit(df_Assembled)\n",
    "            df_Assembled = model.transform(df_Assembled)\n",
    "\n",
    "        return df_Assembled\n",
    "\n"
   ],
   "metadata": {
    "collapsed": false,
    "ExecuteTime": {
     "end_time": "2023-11-18T11:52:00.432157Z",
     "start_time": "2023-11-18T11:52:00.428137Z"
    }
   },
   "id": "2b6cd6ad544297e3"
  },
  {
   "cell_type": "code",
   "execution_count": 246,
   "outputs": [],
   "source": [
    "df = spark.read.csv('/Users/aminaterbachi/Downloads/customer_churn.csv', header=True, inferSchema=True)\n"
   ],
   "metadata": {
    "collapsed": false,
    "ExecuteTime": {
     "end_time": "2023-11-18T11:52:00.751903Z",
     "start_time": "2023-11-18T11:52:00.565097Z"
    }
   },
   "id": "c7cac978ed5671c4"
  },
  {
   "cell_type": "code",
   "execution_count": 247,
   "outputs": [
    {
     "data": {
      "text/plain": "900"
     },
     "execution_count": 247,
     "metadata": {},
     "output_type": "execute_result"
    }
   ],
   "source": [
    "df.count()\n"
   ],
   "metadata": {
    "collapsed": false,
    "ExecuteTime": {
     "end_time": "2023-11-18T11:52:00.810674Z",
     "start_time": "2023-11-18T11:52:00.752829Z"
    }
   },
   "id": "3790d02f6ba60d8a"
  },
  {
   "cell_type": "code",
   "execution_count": 248,
   "outputs": [
    {
     "name": "stdout",
     "output_type": "stream",
     "text": [
      "+----------------+----+--------------+---------------+-----+---------+-------------------+--------------------+--------------------+-----+\n",
      "|           Names| Age|Total_Purchase|Account_Manager|Years|Num_Sites|       Onboard_date|            Location|             Company|Churn|\n",
      "+----------------+----+--------------+---------------+-----+---------+-------------------+--------------------+--------------------+-----+\n",
      "|Cameron Williams|42.0|       11066.8|              0| 7.22|      8.0|2013-08-30 07:00:40|10265 Elizabeth M...|          Harvey LLC|    1|\n",
      "|   Kevin Mueller|41.0|      11916.22|              0|  6.5|     11.0|2013-08-13 00:38:46|6157 Frank Garden...|          Wilson PLC|    1|\n",
      "|     Eric Lozano|38.0|      12884.75|              0| 6.67|     12.0|2016-06-29 06:20:07|1331 Keith Court ...|Miller, Johnson a...|    1|\n",
      "|   Phillip White|42.0|       8010.76|              0| 6.71|     10.0|2014-04-22 12:43:12|13120 Daniel Moun...|           Smith Inc|    1|\n",
      "|  Cynthia Norton|37.0|       9191.58|              0| 5.56|      9.0|2016-01-19 15:31:15|765 Tricia Row Ka...|          Love-Jones|    1|\n",
      "+----------------+----+--------------+---------------+-----+---------+-------------------+--------------------+--------------------+-----+\n"
     ]
    }
   ],
   "source": [
    "df.show(5)\n"
   ],
   "metadata": {
    "collapsed": false,
    "ExecuteTime": {
     "end_time": "2023-11-18T11:52:00.914506Z",
     "start_time": "2023-11-18T11:52:00.859347Z"
    }
   },
   "id": "b31281dfeedad97"
  },
  {
   "cell_type": "code",
   "execution_count": 249,
   "outputs": [
    {
     "name": "stdout",
     "output_type": "stream",
     "text": [
      "root\n",
      " |-- Names: string (nullable = true)\n",
      " |-- Age: double (nullable = true)\n",
      " |-- Total_Purchase: double (nullable = true)\n",
      " |-- Account_Manager: integer (nullable = true)\n",
      " |-- Years: double (nullable = true)\n",
      " |-- Num_Sites: double (nullable = true)\n",
      " |-- Onboard_date: timestamp (nullable = true)\n",
      " |-- Location: string (nullable = true)\n",
      " |-- Company: string (nullable = true)\n",
      " |-- Churn: integer (nullable = true)\n"
     ]
    }
   ],
   "source": [
    "df.printSchema()"
   ],
   "metadata": {
    "collapsed": false,
    "ExecuteTime": {
     "end_time": "2023-11-18T11:52:01.031685Z",
     "start_time": "2023-11-18T11:52:01.024648Z"
    }
   },
   "id": "8e2559a13ba628e0"
  },
  {
   "cell_type": "code",
   "execution_count": 250,
   "outputs": [
    {
     "name": "stdout",
     "output_type": "stream",
     "text": [
      "+-------+-------------+-----------------+-----------------+------------------+-----------------+------------------+--------------------+--------------------+-------------------+\n",
      "|summary|        Names|              Age|   Total_Purchase|   Account_Manager|            Years|         Num_Sites|            Location|             Company|              Churn|\n",
      "+-------+-------------+-----------------+-----------------+------------------+-----------------+------------------+--------------------+--------------------+-------------------+\n",
      "|  count|          900|              900|              900|               900|              900|               900|                 900|                 900|                900|\n",
      "|   mean|         NULL|41.81666666666667|10062.82403333334|0.4811111111111111| 5.27315555555555| 8.587777777777777|                NULL|                NULL|0.16666666666666666|\n",
      "| stddev|         NULL|6.127560416916251|2408.644531858096|0.4999208935073339|1.274449013194616|1.7648355920350969|                NULL|                NULL| 0.3728852122772358|\n",
      "|    min|   Aaron King|             22.0|            100.0|                 0|              1.0|               3.0|00103 Jeffrey Cre...|     Abbott-Thompson|                  0|\n",
      "|    max|Zachary Walsh|             65.0|         18026.01|                 1|             9.15|              14.0|Unit 9800 Box 287...|Zuniga, Clark and...|                  1|\n",
      "+-------+-------------+-----------------+-----------------+------------------+-----------------+------------------+--------------------+--------------------+-------------------+\n"
     ]
    }
   ],
   "source": [
    "df.describe().show()\n"
   ],
   "metadata": {
    "collapsed": false,
    "ExecuteTime": {
     "end_time": "2023-11-18T11:52:01.357014Z",
     "start_time": "2023-11-18T11:52:01.148544Z"
    }
   },
   "id": "f4a15b5c955189be"
  },
  {
   "cell_type": "code",
   "execution_count": 251,
   "outputs": [
    {
     "data": {
      "text/plain": "{'Names': 0,\n 'Age': 0,\n 'Total_Purchase': 0,\n 'Account_Manager': 0,\n 'Years': 0,\n 'Num_Sites': 0,\n 'Onboard_date': 0,\n 'Location': 0,\n 'Company': 0,\n 'Churn': 0}"
     },
     "execution_count": 251,
     "metadata": {},
     "output_type": "execute_result"
    }
   ],
   "source": [
    "SmartEncoder.checkNulls(df)\n"
   ],
   "metadata": {
    "collapsed": false,
    "ExecuteTime": {
     "end_time": "2023-11-18T11:52:01.843129Z",
     "start_time": "2023-11-18T11:52:01.350230Z"
    }
   },
   "id": "a3de5e46084a87ad"
  },
  {
   "cell_type": "code",
   "execution_count": 252,
   "outputs": [
    {
     "data": {
      "text/plain": "900"
     },
     "execution_count": 252,
     "metadata": {},
     "output_type": "execute_result"
    }
   ],
   "source": [
    "df.select('Onboard_date').distinct().count()\n"
   ],
   "metadata": {
    "collapsed": false,
    "ExecuteTime": {
     "end_time": "2023-11-18T11:52:01.996129Z",
     "start_time": "2023-11-18T11:52:01.838422Z"
    }
   },
   "id": "95d5b232bf8834f5"
  },
  {
   "cell_type": "code",
   "execution_count": 253,
   "outputs": [],
   "source": [
    "df = df.drop('Onboard_date')\n"
   ],
   "metadata": {
    "collapsed": false,
    "ExecuteTime": {
     "end_time": "2023-11-18T11:52:02.002734Z",
     "start_time": "2023-11-18T11:52:01.992737Z"
    }
   },
   "id": "4410ac66f7e476e0"
  },
  {
   "cell_type": "code",
   "execution_count": 254,
   "outputs": [
    {
     "data": {
      "text/plain": "<Figure size 1500x700 with 1 Axes>",
      "image/png": "[encoded data removed]"
     },
     "metadata": {},
     "output_type": "display_data"
    }
   ],
   "source": [
    "import matplotlib.pyplot as plt\n",
    "\n",
    "fig, ax = plt.subplots(figsize=(15, 7))\n",
    "df.toPandas().boxplot('Churn', 'Age', rot=60, ax=ax)\n",
    "# Show the plot\n",
    "plt.show()"
   ],
   "metadata": {
    "collapsed": false,
    "ExecuteTime": {
     "end_time": "2023-11-18T11:52:02.244564Z",
     "start_time": "2023-11-18T11:52:02.019128Z"
    }
   },
   "id": "ce97dad1ddf79f36"
  },
  {
   "cell_type": "code",
   "execution_count": 255,
   "outputs": [
    {
     "data": {
      "text/plain": "<Figure size 640x480 with 1 Axes>",
      "image/png": "[encoded data removed]"
     },
     "metadata": {},
     "output_type": "display_data"
    }
   ],
   "source": [
    "# Class (Target) Distribution\n",
    "class_dis = df.groupBy(\"Churn\").count().toPandas()\n",
    "class_occur = class_dis['count']\n",
    "#class_names = ['churn','Not churn']\n",
    "class_names = class_dis['Churn']\n",
    "fig, ax = plt.subplots()\n",
    "ax.pie(class_occur, labels=class_names, autopct='%1.2f%%',\n",
    "       shadow=True, startangle=0, counterclock=False)\n",
    "ax.axis('equal')  # Equal aspect ratio ensures that pie is drawn as a circle.\n",
    "ax.set_title('Class distribution')\n",
    "plt.show()"
   ],
   "metadata": {
    "collapsed": false,
    "ExecuteTime": {
     "end_time": "2023-11-18T11:52:02.452596Z",
     "start_time": "2023-11-18T11:52:02.243291Z"
    }
   },
   "id": "81f1477368fcc648"
  },
  {
   "cell_type": "code",
   "execution_count": 256,
   "outputs": [
    {
     "name": "stdout",
     "output_type": "stream",
     "text": [
      "Constructor of Class samrtencoder \n"
     ]
    }
   ],
   "source": [
    "obj = SmartEncoder(df, 'Churn', True, True, True, False)\n"
   ],
   "metadata": {
    "collapsed": false,
    "ExecuteTime": {
     "end_time": "2023-11-18T11:52:02.453142Z",
     "start_time": "2023-11-18T11:52:02.437431Z"
    }
   },
   "id": "b89e665f0f31ef10"
  },
  {
   "cell_type": "code",
   "execution_count": 257,
   "outputs": [
    {
     "name": "stderr",
     "output_type": "stream",
     "text": [
      "/Users/aminaterbachi/Documents/PycharmProjects/BigDataProject/lib/python3.11/site-packages/pyspark/sql/pandas/conversion.py:485: FutureWarning: is_datetime64tz_dtype is deprecated and will be removed in a future version. Check `isinstance(dtype, pd.DatetimeTZDtype)` instead.\n",
      "  if should_localize and is_datetime64tz_dtype(s.dtype) and s.dt.tz is not None:\n"
     ]
    },
    {
     "name": "stdout",
     "output_type": "stream",
     "text": [
      "Counter({0: 750, 1: 750})\n"
     ]
    },
    {
     "name": "stderr",
     "output_type": "stream",
     "text": [
      "                                                                                \r"
     ]
    },
    {
     "data": {
      "text/plain": "1500"
     },
     "execution_count": 257,
     "metadata": {},
     "output_type": "execute_result"
    }
   ],
   "source": [
    "dfr = obj.indexString()\n",
    "dfr.count()"
   ],
   "metadata": {
    "collapsed": false,
    "ExecuteTime": {
     "end_time": "2023-11-18T11:52:06.541130Z",
     "start_time": "2023-11-18T11:52:02.444213Z"
    }
   },
   "id": "fac3c01357f627e9"
  },
  {
   "cell_type": "code",
   "execution_count": 258,
   "outputs": [
    {
     "data": {
      "text/plain": "['Age',\n 'Total_Purchase',\n 'Account_Manager',\n 'Years',\n 'Num_Sites',\n 'Churn',\n 'Names_vec',\n 'Location_vec',\n 'Company_vec']"
     },
     "execution_count": 258,
     "metadata": {},
     "output_type": "execute_result"
    }
   ],
   "source": [
    "dfr.columns\n"
   ],
   "metadata": {
    "collapsed": false,
    "ExecuteTime": {
     "end_time": "2023-11-18T11:52:12.973181Z",
     "start_time": "2023-11-18T11:52:12.958046Z"
    }
   },
   "id": "388654091d45a34e"
  },
  {
   "cell_type": "code",
   "execution_count": 263,
   "outputs": [
    {
     "name": "stdout",
     "output_type": "stream",
     "text": [
      "+-----+-----+\n",
      "|Churn|count|\n",
      "+-----+-----+\n",
      "|    0|  750|\n",
      "|    1|  750|\n",
      "+-----+-----+\n"
     ]
    }
   ],
   "source": [
    "dfr.groupBy('Churn').count().show()\n"
   ],
   "metadata": {
    "collapsed": false,
    "ExecuteTime": {
     "end_time": "2023-11-18T11:53:08.902099Z",
     "start_time": "2023-11-18T11:53:08.586923Z"
    }
   },
   "id": "c1f6eff83fb8cd82"
  },
  {
   "cell_type": "code",
   "execution_count": 267,
   "outputs": [
    {
     "data": {
      "text/plain": "<Figure size 2000x1000 with 2 Axes>",
      "image/png": "[encoded data removed]"
     },
     "metadata": {},
     "output_type": "display_data"
    }
   ],
   "source": [
    "from pyspark.sql.types import IntegerType, DoubleType\n",
    "import seaborn as sns\n",
    "\n",
    "# Assuming 'dfr' is your Spark DataFrame\n",
    "numeric_cols = [field.name for field in dfr.schema.fields if isinstance(field.dataType, (IntegerType, DoubleType))]\n",
    "numeric_data = dfr.select(numeric_cols).toPandas()\n",
    "\n",
    "plt.figure(figsize=(20, 10))\n",
    "sns.heatmap(numeric_data.corr(), annot=True)\n",
    "plt.show()"
   ],
   "metadata": {
    "collapsed": false,
    "ExecuteTime": {
     "end_time": "2023-11-18T11:55:58.652919Z",
     "start_time": "2023-11-18T11:55:57.869282Z"
    }
   },
   "id": "4036a121e1b5b12a"
  },
  {
   "cell_type": "code",
   "execution_count": 268,
   "outputs": [
    {
     "name": "stderr",
     "output_type": "stream",
     "text": [
      "/Users/aminaterbachi/Documents/PycharmProjects/BigDataProject/lib/python3.11/site-packages/pyspark/sql/pandas/conversion.py:485: FutureWarning: is_datetime64tz_dtype is deprecated and will be removed in a future version. Check `isinstance(dtype, pd.DatetimeTZDtype)` instead.\n",
      "  if should_localize and is_datetime64tz_dtype(s.dtype) and s.dt.tz is not None:\n"
     ]
    },
    {
     "name": "stdout",
     "output_type": "stream",
     "text": [
      "Counter({0: 750, 1: 750})\n"
     ]
    }
   ],
   "source": [
    "df_fin = obj.dataAssembler('')"
   ],
   "metadata": {
    "collapsed": false,
    "ExecuteTime": {
     "end_time": "2023-11-18T11:56:19.366107Z",
     "start_time": "2023-11-18T11:56:17.752404Z"
    }
   },
   "id": "2ef1d6df64f010b7"
  },
  {
   "cell_type": "code",
   "execution_count": 269,
   "outputs": [
    {
     "data": {
      "text/plain": "['Age',\n 'Total_Purchase',\n 'Account_Manager',\n 'Years',\n 'Num_Sites',\n 'Churn',\n 'Names_vec',\n 'Location_vec',\n 'Company_vec',\n 'features',\n 'standardized']"
     },
     "execution_count": 269,
     "metadata": {},
     "output_type": "execute_result"
    }
   ],
   "source": [
    "df_fin.columns\n"
   ],
   "metadata": {
    "collapsed": false,
    "ExecuteTime": {
     "end_time": "2023-11-18T11:56:26.684483Z",
     "start_time": "2023-11-18T11:56:26.663682Z"
    }
   },
   "id": "3d8b612505de42eb"
  },
  {
   "cell_type": "code",
   "execution_count": 270,
   "outputs": [],
   "source": [
    "from pyspark.ml.classification import LogisticRegression, RandomForestClassifier, GBTClassifier, LinearSVC\n",
    "from pyspark.ml.evaluation import MulticlassClassificationEvaluator, BinaryClassificationEvaluator\n",
    "\n",
    "\n",
    "class ClassificationEval():\n",
    "\n",
    "    def __init__(self, pred, final_df):\n",
    "        print(\"Constructor of Class for classification evaluation\")\n",
    "        self.final_df = final_df\n",
    "        self.pred = pred\n",
    "        self.accuresult = {}\n",
    "        self.rocresult = {}\n",
    "\n",
    "    def run_on_model(self, model, featureCol):\n",
    "        trainDF, testDF = self.final_df.randomSplit([0.7, 0.3], seed=42)\n",
    "        if model == 'lr':\n",
    "            lr = LogisticRegression(labelCol=self.pred, featuresCol=featureCol, maxIter=40)\n",
    "            modellr = lr.fit(trainDF)\n",
    "            self.predlr = modellr.transform(testDF)\n",
    "            return self.predlr\n",
    "        elif model == 'rf':\n",
    "            rf = RandomForestClassifier(labelCol=self.pred, featuresCol=featureCol, numTrees=100, maxDepth=3)\n",
    "            modelRf = rf.fit(trainDF)\n",
    "            self.predrf = modelRf.transform(testDF)\n",
    "            return self.predrf\n",
    "        elif model == 'gb':\n",
    "            gb = GBTClassifier(labelCol=self.pred, featuresCol=featureCol, maxIter=75, maxDepth=3)\n",
    "            modelgb = gb.fit(trainDF)\n",
    "            self.predgb = modelgb.transform(testDF)\n",
    "            return self.predgb\n",
    "        elif model == 'lsvc':\n",
    "            lsvc = LinearSVC(labelCol=self.pred, featuresCol=featureCol, maxIter=10, regParam=0.1)\n",
    "            lsvcModel = lsvc.fit(trainDF)\n",
    "            self.predsvc = lsvcModel.transform(testDF)\n",
    "            return self.predsvc\n",
    "        else:\n",
    "            raise ValueError('invalid model')\n",
    "\n",
    "    def genMetrics(self, model, featureCol):\n",
    "\n",
    "        pred_test = self.run_on_model(model, featureCol)\n",
    "        binEval = BinaryClassificationEvaluator(labelCol=self.pred)\n",
    "        evaluator = MulticlassClassificationEvaluator(labelCol=self.pred, predictionCol=\"prediction\")\n",
    "        self.accuresult[model] = evaluator.evaluate(pred_test, {evaluator.metricName: \"accuracy\"})\n",
    "        self.rocresult[model] = binEval.evaluate(pred_test, {binEval.metricName: \"areaUnderROC\"})\n",
    "\n",
    "    def run_all_model(self, featureCol):\n",
    "        models = ['lr', 'rf', 'gb', 'lsvc']\n",
    "        for model in models:\n",
    "            self.genMetrics(model, featureCol)\n",
    "        print(\"Accuracy =\", self.accuresult)\n",
    "        print(\"roc =\", self.rocresult)\n",
    "        return self.accuresult, self.rocresult\n",
    "\n",
    "    def compareModel(self):\n",
    "        best_v = 0\n",
    "        best_k = None\n",
    "        for k, v in self.accuresult.items():\n",
    "            if best_v < v:\n",
    "                best_v = v\n",
    "                best_k = k\n",
    "        return best_k, best_v\n"
   ],
   "metadata": {
    "collapsed": false,
    "ExecuteTime": {
     "end_time": "2023-11-18T11:57:09.725966Z",
     "start_time": "2023-11-18T11:57:09.673967Z"
    }
   },
   "id": "6aa427ed47135614"
  },
  {
   "cell_type": "code",
   "execution_count": 271,
   "outputs": [
    {
     "name": "stdout",
     "output_type": "stream",
     "text": [
      "Constructor of Class for classification evaluation\n"
     ]
    }
   ],
   "source": [
    "obj2 = ClassificationEval('Churn', df_fin)\n"
   ],
   "metadata": {
    "collapsed": false,
    "ExecuteTime": {
     "end_time": "2023-11-18T11:57:15.893762Z",
     "start_time": "2023-11-18T11:57:15.863766Z"
    }
   },
   "id": "b452415c2d32d4a3"
  },
  {
   "cell_type": "code",
   "execution_count": 272,
   "outputs": [
    {
     "name": "stderr",
     "output_type": "stream",
     "text": [
      "23/11/18 12:57:22 WARN InstanceBuilder: Failed to load implementation from:dev.ludovic.netlib.blas.JNIBLAS\n",
      "23/11/18 12:57:22 WARN InstanceBuilder: Failed to load implementation from:dev.ludovic.netlib.blas.VectorBLAS\n",
      "                                                                                \r"
     ]
    },
    {
     "name": "stdout",
     "output_type": "stream",
     "text": [
      "Accuracy = {'lr': 0.8869936034115139, 'rf': 0.8230277185501066, 'gb': 0.8912579957356077, 'lsvc': 0.8912579957356077}\n",
      "roc = {'lr': 0.9999272515640913, 'rf': 0.8806198166739416, 'gb': 0.9431107231194529, 'lsvc': 0.9999272515640913}\n"
     ]
    }
   ],
   "source": [
    "accu, roc = obj2.run_all_model(\"features\")\n"
   ],
   "metadata": {
    "collapsed": false,
    "ExecuteTime": {
     "end_time": "2023-11-18T11:57:55.127895Z",
     "start_time": "2023-11-18T11:57:20.909432Z"
    }
   },
   "id": "b2e45cc7d5c049e"
  },
  {
   "cell_type": "code",
   "execution_count": 273,
   "outputs": [
    {
     "data": {
      "text/plain": "('gb', 0.8912579957356077)"
     },
     "execution_count": 273,
     "metadata": {},
     "output_type": "execute_result"
    }
   ],
   "source": [
    "obj2.compareModel()"
   ],
   "metadata": {
    "collapsed": false,
    "ExecuteTime": {
     "end_time": "2023-11-18T11:58:10.328241Z",
     "start_time": "2023-11-18T11:58:10.287138Z"
    }
   },
   "id": "104e23fc6b05b8f5"
  },
  {
   "cell_type": "code",
   "execution_count": 274,
   "outputs": [],
   "source": [
    "trainDF, testDF = df_fin.randomSplit([0.7, 0.3], seed=42)"
   ],
   "metadata": {
    "collapsed": false,
    "ExecuteTime": {
     "end_time": "2023-11-18T11:58:25.313097Z",
     "start_time": "2023-11-18T11:58:25.258038Z"
    }
   },
   "id": "2d0e5217bc6233f2"
  },
  {
   "cell_type": "code",
   "execution_count": 275,
   "outputs": [],
   "source": [
    "from pyspark.ml.classification import GBTClassifier\n",
    "\n",
    "gbt = GBTClassifier(labelCol=\"Churn\", featuresCol=\"features\", maxIter=10)\n",
    "gbtModel = gbt.fit(trainDF)\n",
    "gbtPreds = gbtModel.transform(testDF)\n"
   ],
   "metadata": {
    "collapsed": false,
    "ExecuteTime": {
     "end_time": "2023-11-18T11:58:36.599761Z",
     "start_time": "2023-11-18T11:58:32.098605Z"
    }
   },
   "id": "cdb3278fa46c360a"
  },
  {
   "cell_type": "code",
   "execution_count": 276,
   "outputs": [
    {
     "name": "stdout",
     "output_type": "stream",
     "text": [
      "Test Area Under ROC: 0.941492070420486\n"
     ]
    }
   ],
   "source": [
    "from pyspark.ml.evaluation import BinaryClassificationEvaluator\n",
    "\n",
    "gbtEval = BinaryClassificationEvaluator(labelCol=\"Churn\")\n",
    "gbtROC = gbtEval.evaluate(gbtPreds, {gbtEval.metricName: \"areaUnderROC\"})\n",
    "print(\"Test Area Under ROC: \" + str(gbtROC))\n"
   ],
   "metadata": {
    "collapsed": false,
    "ExecuteTime": {
     "end_time": "2023-11-18T11:58:44.455719Z",
     "start_time": "2023-11-18T11:58:43.563818Z"
    }
   },
   "id": "e23f17030ced2d75"
  },
  {
   "cell_type": "code",
   "execution_count": 277,
   "outputs": [
    {
     "data": {
      "text/plain": "0.9436654299432562"
     },
     "execution_count": 277,
     "metadata": {},
     "output_type": "execute_result"
    }
   ],
   "source": [
    "from pyspark.ml.tuning import ParamGridBuilder, CrossValidator\n",
    "\n",
    "paramGrid = (ParamGridBuilder()\n",
    "             .addGrid(gbt.maxDepth, [2, 4, 6])\n",
    "             .addGrid(gbt.maxBins, [20, 60])\n",
    "             .addGrid(gbt.maxIter, [10, 20])\n",
    "             .build())\n",
    "\n",
    "cv = CrossValidator(estimator=gbt, estimatorParamMaps=paramGrid, evaluator=gbtEval, numFolds=5)\n",
    "\n",
    "# Run cross validations.  \n",
    "# This can take some minutes since it is training over 20 trees!\n",
    "cvModel = cv.fit(trainDF)\n",
    "cvPreds = cvModel.transform(testDF)\n",
    "gbtEval.evaluate(cvPreds)"
   ],
   "metadata": {
    "collapsed": false
   },
   "id": "e65b3d4b589c181c"
  },
  {
   "cell_type": "code",
   "execution_count": 280,
   "outputs": [],
   "source": [
    "from pyspark.ml import Pipeline\n",
    "\n",
    "# Create a Pipeline with your model and any preprocessing stages\n",
    "pipeline = Pipeline(stages=[gbt])\n",
    "\n",
    "# Fit the pipeline on your data\n",
    "model = pipeline.fit(df_fin)\n",
    "\n",
    "# Save the model to a path\n",
    "model.save(\"/Users/aminaterbachi/PycharmProjects/scientificProject/models/churn_prediction_model\")"
   ],
   "metadata": {
    "collapsed": false,
    "ExecuteTime": {
     "end_time": "2023-11-18T12:15:31.963857Z",
     "start_time": "2023-11-18T12:15:27.027143Z"
    }
   },
   "id": "2b14818fd38aa42b"
  },
  {
   "cell_type": "code",
   "execution_count": null,
   "outputs": [],
   "source": [],
   "metadata": {
    "collapsed": false
   },
   "id": "1620e51b5b14b643"
  }
 ],
 "metadata": {
  "kernelspec": {
   "display_name": "Python 3",
   "language": "python",
   "name": "python3"
  },
  "language_info": {
   "codemirror_mode": {
    "name": "ipython",
    "version": 2
   },
   "file_extension": ".py",
   "mimetype": "text/x-python",
   "name": "python",
   "nbconvert_exporter": "python",
   "pygments_lexer": "ipython2",
   "version": "2.7.6"
  }
 },
 "nbformat": 4,
 "nbformat_minor": 5
}
